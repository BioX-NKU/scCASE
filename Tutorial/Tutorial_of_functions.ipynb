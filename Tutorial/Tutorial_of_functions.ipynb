{
 "cells": [
  {
   "cell_type": "markdown",
   "id": "4b6a7a0d",
   "metadata": {
    "ExecuteTime": {
     "end_time": "2023-09-27T04:54:10.349948Z",
     "start_time": "2023-09-27T04:54:10.347256Z"
    }
   },
   "source": [
    "## scCASE.run"
   ]
  },
  {
   "cell_type": "code",
   "execution_count": 1,
   "id": "17fa9660",
   "metadata": {
    "ExecuteTime": {
     "end_time": "2023-12-31T06:20:13.374455Z",
     "start_time": "2023-12-31T06:20:10.511205Z"
    }
   },
   "outputs": [],
   "source": [
    "import scCASE\n",
    "import pandas as pd\n",
    "import episcanpy as epi\n",
    "import anndata as ad\n",
    "import sklearn.metrics\n",
    "import warnings\n",
    "warnings.filterwarnings(\"ignore\")"
   ]
  },
  {
   "cell_type": "markdown",
   "id": "3d5082d5",
   "metadata": {},
   "source": [
    "**scCASE.run is the main function of scCASE.**"
   ]
  },
  {
   "cell_type": "code",
   "execution_count": 2,
   "id": "6a11a0c4",
   "metadata": {
    "ExecuteTime": {
     "end_time": "2023-12-31T06:20:19.525123Z",
     "start_time": "2023-12-31T06:20:19.025515Z"
    }
   },
   "outputs": [],
   "source": [
    "adata = epi.read(\"/home/sccasimp/data/sccasimp/BM0828/origdata.h5ad\")"
   ]
  },
  {
   "cell_type": "code",
   "execution_count": 15,
   "id": "de13733b",
   "metadata": {
    "ExecuteTime": {
     "end_time": "2023-12-31T06:38:28.280010Z",
     "start_time": "2023-12-31T06:38:28.275335Z"
    }
   },
   "outputs": [
    {
     "data": {
      "text/plain": [
       "AnnData object with n_obs × n_vars = 533 × 320083\n",
       "    obs: 'cell_type'\n",
       "    var: 'peak'"
      ]
     },
     "execution_count": 15,
     "metadata": {},
     "output_type": "execute_result"
    }
   ],
   "source": [
    "adata"
   ]
  },
  {
   "cell_type": "markdown",
   "id": "7336c3a0",
   "metadata": {},
   "source": [
    "### Utilitze scCASE to enhance data"
   ]
  },
  {
   "cell_type": "code",
   "execution_count": 12,
   "id": "b0fcf0e6",
   "metadata": {
    "ExecuteTime": {
     "end_time": "2023-12-31T06:35:58.501587Z",
     "start_time": "2023-12-31T06:34:43.514469Z"
    },
    "scrolled": true
   },
   "outputs": [
    {
     "name": "stdout",
     "output_type": "stream",
     "text": [
      "Data shape after feature selection:\n",
      "(99662, 533)\n",
      "Raw dataset shape:  (533, 99662)\n",
      "Dataset shape after preprocessing:  (533, 92229)\n",
      "Estimating by sum of squared distances...\n",
      "Estimating by Davies-Bouldin score...\n",
      "Estimating by silhouette coefficient...\n",
      "Initializing...\n",
      "Generating similarity matrix...\n",
      "Updating...\n",
      "Finished\n"
     ]
    }
   ],
   "source": [
    "data_enhanced = scCASE.run(data_path = adata,ref_path = None,method = \"scCASE\",data_format = \"h5ad\",\n",
    "         data_sep=\",\",ref_sep=\",\",type_number_range=range(3, 15),output_path = \"./\",\n",
    "         batchlabel= \"batch\",threshold = 0.01,\n",
    "         K = \"Auto\",K_ref = \"Auto\",save_result = False)"
   ]
  },
  {
   "cell_type": "markdown",
   "id": "34ef1e9f",
   "metadata": {},
   "source": [
    "### Utilitze scCASER to enhance data with reference."
   ]
  },
  {
   "cell_type": "code",
   "execution_count": null,
   "id": "ab755619",
   "metadata": {
    "ExecuteTime": {
     "start_time": "2023-12-31T06:34:31.232Z"
    }
   },
   "outputs": [
    {
     "name": "stdout",
     "output_type": "stream",
     "text": [
      "Data shape after feature selection:\n",
      "(99662, 533)\n",
      "Reference shape after feature selection:\n",
      "(99662, 17)\n",
      "Raw dataset shape:  (533, 99662)\n",
      "Dataset shape after preprocessing:  (533, 92229)\n",
      "Estimating by sum of squared distances...\n"
     ]
    }
   ],
   "source": [
    "scCASE.run(data_path = adata,ref_path = \"/home/sccasimp/data/sccasimp/BM0828/bulk.csv\",method = \"scCASER\",data_format = \"h5ad\",\n",
    "         data_sep=\",\",ref_sep=\",\",type_number_range=range(3, 15),output_path = \"./\",\n",
    "         batchlabel= \"batch\",threshold = 0.01,\n",
    "         K = \"Auto\",K_ref = \"Auto\",save_result = False)"
   ]
  },
  {
   "cell_type": "markdown",
   "id": "82199514",
   "metadata": {},
   "source": [
    "### Utilitze scCASE for correct sequencing depth."
   ]
  },
  {
   "cell_type": "code",
   "execution_count": null,
   "id": "2c259bd0",
   "metadata": {
    "ExecuteTime": {
     "start_time": "2023-12-31T06:29:42.998Z"
    }
   },
   "outputs": [
    {
     "name": "stdout",
     "output_type": "stream",
     "text": [
      "Data shape after feature selection:\n",
      "(99662, 533)\n",
      "Raw dataset shape:  (533, 99662)\n",
      "Dataset shape after preprocessing:  (533, 92229)\n",
      "Estimating by sum of squared distances...\n"
     ]
    }
   ],
   "source": [
    "scCASE.run(data_path = adata,ref_path = None,method = \"Correct seq depth\",data_format = \"h5ad\",\n",
    "         data_sep=\",\",ref_sep=\",\",type_number_range=range(3, 15),output_path = \"./\",\n",
    "         batchlabel= \"batch\",threshold = 0.01,\n",
    "         K = \"Auto\",K_ref = \"Auto\",save_result = False)"
   ]
  },
  {
   "cell_type": "markdown",
   "id": "7bfc8f32",
   "metadata": {},
   "source": [
    "### Utilitze scCASE for correct batch effect."
   ]
  },
  {
   "cell_type": "code",
   "execution_count": null,
   "id": "8a4af87a",
   "metadata": {
    "ExecuteTime": {
     "start_time": "2023-12-31T06:32:56.769Z"
    }
   },
   "outputs": [
    {
     "name": "stdout",
     "output_type": "stream",
     "text": [
      "Data shape after feature selection:\n",
      "(99662, 533)\n",
      "Raw dataset shape:  (533, 99662)\n",
      "Dataset shape after preprocessing:  (533, 92229)\n",
      "Estimating by sum of squared distances...\n"
     ]
    }
   ],
   "source": [
    "scCASE.run(data_path = adata,ref_path = None,method = \"Correct batch effect\",data_format = \"h5ad\",\n",
    "         data_sep=\",\",ref_sep=\",\",type_number_range=range(3, 15),output_path = \"./\",\n",
    "         batchlabel= \"batch\",threshold = 0.01,\n",
    "         K = \"Auto\",K_ref = \"Auto\",save_result = False)"
   ]
  },
  {
   "cell_type": "markdown",
   "id": "eace3cb0",
   "metadata": {},
   "source": [
    "### Utilitze scCASE.Estimate_k solely for estimat the parameter K of scCASE."
   ]
  },
  {
   "cell_type": "code",
   "execution_count": null,
   "id": "b91d1b7b",
   "metadata": {
    "ExecuteTime": {
     "start_time": "2023-12-31T06:37:10.396Z"
    }
   },
   "outputs": [],
   "source": [
    "Estimated_K = scCASE.Estimate_k(adata.X.T.A,search_range=range(5,15),method = \"scCASE\")\n",
    "scCASE.run(adata,method = \"scCASE\",K = Estimated_K)"
   ]
  },
  {
   "cell_type": "markdown",
   "id": "9b94e633",
   "metadata": {},
   "source": [
    "## scCASE.lazy"
   ]
  },
  {
   "cell_type": "markdown",
   "id": "358963bf",
   "metadata": {},
   "source": [
    "**Similar to the function of episcanpy.pp.lazy,including TF-IDF (in addition to episcanpy), PCA, creating neighbors graph,and t-SNE/UMAP.**"
   ]
  },
  {
   "cell_type": "code",
   "execution_count": 17,
   "id": "1296f3d2",
   "metadata": {
    "ExecuteTime": {
     "end_time": "2023-12-31T06:43:58.652353Z",
     "start_time": "2023-12-31T06:43:53.846828Z"
    }
   },
   "outputs": [],
   "source": [
    "scCASE.lazy(data_enhanced)"
   ]
  },
  {
   "cell_type": "code",
   "execution_count": 18,
   "id": "31527baa",
   "metadata": {
    "ExecuteTime": {
     "end_time": "2023-12-31T06:44:00.945390Z",
     "start_time": "2023-12-31T06:44:00.941007Z"
    }
   },
   "outputs": [
    {
     "data": {
      "text/plain": [
       "AnnData object with n_obs × n_vars = 533 × 99662\n",
       "    obs: 'cell_type'\n",
       "    var: 'peak'\n",
       "    uns: 'pca', 'neighbors', 'umap', 'tsne'\n",
       "    obsm: 'Embeding', 'X_pca', 'X_umap', 'X_tsne'\n",
       "    varm: 'Projection', 'PCs'\n",
       "    obsp: 'Similarity', 'distances', 'connectivities'"
      ]
     },
     "execution_count": 18,
     "metadata": {},
     "output_type": "execute_result"
    }
   ],
   "source": [
    "data_enhanced"
   ]
  },
  {
   "cell_type": "markdown",
   "id": "3d233646",
   "metadata": {},
   "source": [
    "## scCASE.identify_specific_peaks"
   ]
  },
  {
   "cell_type": "code",
   "execution_count": 20,
   "id": "f84a480e",
   "metadata": {
    "ExecuteTime": {
     "end_time": "2023-12-31T06:45:40.440657Z",
     "start_time": "2023-12-31T06:45:40.382644Z"
    }
   },
   "outputs": [],
   "source": [
    "peaks = scCASE.identify_specific_peaks(data_enhanced,obs = \"cell_type\",type_ = \"HSC\",peak_name = \"peak\")"
   ]
  }
 ],
 "metadata": {
  "kernelspec": {
   "display_name": "deeplearning",
   "language": "python",
   "name": "deeplearning"
  },
  "language_info": {
   "codemirror_mode": {
    "name": "ipython",
    "version": 3
   },
   "file_extension": ".py",
   "mimetype": "text/x-python",
   "name": "python",
   "nbconvert_exporter": "python",
   "pygments_lexer": "ipython3",
   "version": "3.10.12"
  },
  "toc": {
   "base_numbering": 1,
   "nav_menu": {},
   "number_sections": true,
   "sideBar": true,
   "skip_h1_title": false,
   "title_cell": "Table of Contents",
   "title_sidebar": "Contents",
   "toc_cell": false,
   "toc_position": {},
   "toc_section_display": true,
   "toc_window_display": false
  },
  "varInspector": {
   "cols": {
    "lenName": 16,
    "lenType": 16,
    "lenVar": 40
   },
   "kernels_config": {
    "python": {
     "delete_cmd_postfix": "",
     "delete_cmd_prefix": "del ",
     "library": "var_list.py",
     "varRefreshCmd": "print(var_dic_list())"
    },
    "r": {
     "delete_cmd_postfix": ") ",
     "delete_cmd_prefix": "rm(",
     "library": "var_list.r",
     "varRefreshCmd": "cat(var_dic_list()) "
    }
   },
   "types_to_exclude": [
    "module",
    "function",
    "builtin_function_or_method",
    "instance",
    "_Feature"
   ],
   "window_display": false
  }
 },
 "nbformat": 4,
 "nbformat_minor": 5
}
